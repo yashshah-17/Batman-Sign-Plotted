{
 "cells": [
  {
   "cell_type": "code",
   "execution_count": 37,
   "metadata": {},
   "outputs": [
    {
     "data": {
      "image/png": "[encoded data removed]",
      "text/plain": [
       "<matplotlib.figure.Figure at 0x1fabbe9bef0>"
      ]
     },
     "metadata": {},
     "output_type": "display_data"
    }
   ],
   "source": [
    "import math\n",
    "import numpy as np\n",
    "import matplotlib.pyplot as plt\n",
    "\n",
    "X = np.arange(-4, 4, .005)\n",
    "Y = np.zeros((0))\n",
    "for x in X:\n",
    "    Y = np.append(Y, abs(x/2)-0.09137*x**2+math.sqrt(1-(abs(abs(x)-2)-1)**2)-3)\n",
    "    \n",
    "X1 = np.append(np.arange(-7, -3, .01), np.arange(3, 7, .01))\n",
    "Y1 = np.zeros((0))\n",
    "for x in X1:\n",
    "    Y1 = np.append(Y1, 3*math.sqrt(-(x/7)**2+1))\n",
    "    \n",
    "X = np.append(X, X1)\n",
    "Y = np.append(Y, Y1)\n",
    "\n",
    "X1 = np.append(np.arange(-7, -4, .01), np.arange(4, 7.01, .01))\n",
    "Y1 = np.zeros((0))\n",
    "for x in X1:\n",
    "    Y1 = np.append(Y1, -3*math.sqrt(-(x/7)**2+1))\n",
    "    \n",
    "X = np.append(X, X1)\n",
    "Y = np.append(Y, Y1)\n",
    "\n",
    "X1 = np.append(np.arange(-1, -.8, .01), np.arange(.8, 1, .01))\n",
    "Y1 = np.zeros((0))\n",
    "for x in X1:\n",
    "    Y1 = np.append(Y1, 9-8*abs(x))\n",
    "    \n",
    "X = np.append(X, X1)\n",
    "Y = np.append(Y, Y1)\n",
    "\n",
    "X1 = np.arange(-.5, .5, .05)\n",
    "Y1 = np.zeros((0))\n",
    "for x in X1:\n",
    "    Y1 = np.append(Y1, 2)\n",
    "    \n",
    "X = np.append(X, X1)\n",
    "Y = np.append(Y, Y1)\n",
    "\n",
    "X1 = np.append(np.arange(-2.9, -1, .01), np.arange(1, 2.9, .01))\n",
    "Y1 = np.zeros((0))\n",
    "for x in X1:\n",
    "    Y1 = np.append(Y1, 1.5-.5*abs(x)-1.89736*(math.sqrt(3-x**2+2*abs(x))-2))\n",
    "    \n",
    "X = np.append(X, X1)\n",
    "Y = np.append(Y, Y1)\n",
    "\n",
    "X1 = np.append(np.arange(-.7, -.45, .01), np.arange(.45, .7, .01))\n",
    "Y1 = np.zeros((0))\n",
    "for x in X1:\n",
    "    Y1 = np.append(Y1, 3*abs(x)+.75)\n",
    "    \n",
    "X = np.append(X, X1)\n",
    "Y = np.append(Y, Y1)\n",
    "\n",
    "ax = plt.gca()\n",
    "ax.set_facecolor((0.1, 0.1, 0.1))\n",
    "plt.plot(X, Y, 'yo')\n",
    "ax.set_xticklabels([])\n",
    "ax.set_yticklabels([])\n",
    "plt.show()"
   ]
  },
  {
   "cell_type": "code",
   "execution_count": null,
   "metadata": {},
   "outputs": [],
   "source": []
  }
 ],
 "metadata": {
  "kernelspec": {
   "display_name": "Python 3",
   "language": "python",
   "name": "python3"
  },
  "language_info": {
   "codemirror_mode": {
    "name": "ipython",
    "version": 3
   },
   "file_extension": ".py",
   "mimetype": "text/x-python",
   "name": "python",
   "nbconvert_exporter": "python",
   "pygments_lexer": "ipython3",
   "version": "3.6.4"
  }
 },
 "nbformat": 4,
 "nbformat_minor": 2
}
